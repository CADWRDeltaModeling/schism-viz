{
 "cells": [
  {
   "cell_type": "code",
   "execution_count": null,
   "id": "3c8dd7c2",
   "metadata": {},
   "outputs": [],
   "source": [
    "%load_ext autoreload\n",
    "%autoreload 2"
   ]
  },
  {
   "cell_type": "code",
   "execution_count": null,
   "id": "0059907a",
   "metadata": {},
   "outputs": [],
   "source": [
    "import xarray as xr\n",
    "import pandas as pd\n",
    "import hvplot.pandas\n",
    "import hvplot.xarray"
   ]
  },
  {
   "cell_type": "code",
   "execution_count": null,
   "id": "ea10a53b",
   "metadata": {},
   "outputs": [],
   "source": [
    "varname = 'salinity'"
   ]
  },
  {
   "cell_type": "code",
   "execution_count": null,
   "id": "da026903",
   "metadata": {},
   "outputs": [],
   "source": [
    "file=f'../tests/data/m1_hello_schism/outputs/{varname}_2.nc'"
   ]
  },
  {
   "cell_type": "code",
   "execution_count": null,
   "id": "ddcf9445",
   "metadata": {},
   "outputs": [],
   "source": [
    "ds = xr.open_dataset(file)"
   ]
  },
  {
   "cell_type": "code",
   "execution_count": null,
   "id": "673b1d30",
   "metadata": {},
   "outputs": [],
   "source": [
    "ds"
   ]
  },
  {
   "cell_type": "code",
   "execution_count": null,
   "id": "2263d40f",
   "metadata": {},
   "outputs": [],
   "source": [
    "#!conda install -y -c cadwr-dms schimpy"
   ]
  },
  {
   "cell_type": "code",
   "execution_count": null,
   "id": "5272067c",
   "metadata": {},
   "outputs": [],
   "source": [
    "import schimpy\n",
    "\n",
    "from schimpy import schism_mesh"
   ]
  },
  {
   "cell_type": "code",
   "execution_count": null,
   "id": "6424ea91",
   "metadata": {},
   "outputs": [],
   "source": [
    "import holoviews as hv\n",
    "from holoviews import opts, dim"
   ]
  },
  {
   "cell_type": "code",
   "execution_count": null,
   "id": "dbd41742",
   "metadata": {},
   "outputs": [],
   "source": [
    "import holoviews.operation.datashader as hd\n",
    "from holoviews.operation.datashader import datashade, rasterize\n",
    "import warnings\n",
    "warnings.filterwarnings('ignore')"
   ]
  },
  {
   "cell_type": "code",
   "execution_count": null,
   "id": "c6ac1ebe",
   "metadata": {},
   "outputs": [],
   "source": [
    "smesh = schism_mesh.read_mesh('../tests/data/m1_hello_schism/hgrid.gr3')"
   ]
  },
  {
   "cell_type": "code",
   "execution_count": null,
   "id": "201ddc13",
   "metadata": {},
   "outputs": [],
   "source": [
    "smesh.n_nodes(), smesh.n_edges(), smesh.n_elems()"
   ]
  },
  {
   "cell_type": "code",
   "execution_count": null,
   "id": "192a3f77",
   "metadata": {},
   "outputs": [],
   "source": [
    "varname"
   ]
  },
  {
   "cell_type": "code",
   "execution_count": null,
   "id": "3d18325a",
   "metadata": {},
   "outputs": [],
   "source": [
    "nodes = pd.DataFrame(smesh.nodes,columns=['x','y','z'])\n",
    "nodes\n",
    "nodes[varname] = ds[varname].values[0,:,0]"
   ]
  },
  {
   "cell_type": "code",
   "execution_count": null,
   "id": "192b61c6",
   "metadata": {},
   "outputs": [],
   "source": [
    "trimesh = hv.TriMesh((smesh.elems, hv.Points(nodes, vdims=varname)))"
   ]
  },
  {
   "cell_type": "code",
   "execution_count": null,
   "id": "2e5b5fc1",
   "metadata": {},
   "outputs": [],
   "source": [
    "trimesh = trimesh.opts(\n",
    "    opts.TriMesh(cmap='rainbow4', cnorm='eq_hist', colorbar=True, node_alpha=0, edge_alpha=0, edge_color=varname, filled=True, height=400, \n",
    "                 inspection_policy='edges', tools=['hover'], width=400))"
   ]
  },
  {
   "cell_type": "code",
   "execution_count": null,
   "id": "ffaa24af",
   "metadata": {},
   "outputs": [],
   "source": [
    "trimesh.nodes.data"
   ]
  },
  {
   "cell_type": "code",
   "execution_count": null,
   "id": "9cc6c434",
   "metadata": {},
   "outputs": [],
   "source": [
    "import datashader"
   ]
  },
  {
   "cell_type": "code",
   "execution_count": null,
   "id": "f002ba87",
   "metadata": {},
   "outputs": [],
   "source": [
    "def update(time=0, depth=0):\n",
    "    trimesh.nodes.data[varname] = ds[varname].values[time, :, depth]\n",
    "    return rasterize(trimesh, precompute=False, dynamic=True, \n",
    "                     aggregator=datashader.mean(varname)).opts(\n",
    "        colorbar=True, cmap='rainbow4', # clim=(0,10), \n",
    "        width=600, tools=['hover'])"
   ]
  },
  {
   "cell_type": "code",
   "execution_count": null,
   "id": "aca5d84b",
   "metadata": {},
   "outputs": [],
   "source": [
    "import panel as pn\n",
    "pn.extension()"
   ]
  },
  {
   "cell_type": "code",
   "execution_count": null,
   "id": "3e4e9c6b",
   "metadata": {},
   "outputs": [],
   "source": [
    "time_slider= pn.widgets.DiscreteSlider(name='Time',\n",
    "                                       options=dict(zip(ds.time.astype('str').values,\n",
    "                                                        range(len(ds.time)))))\n",
    "depth_slider= pn.widgets.Select(name='nSCHISM_vgrid_layers',\n",
    "                                options=dict(zip(ds.nSCHISM_vgrid_layers.astype('str').values, \n",
    "                                                 range(len(ds.nSCHISM_vgrid_layers)))))"
   ]
  },
  {
   "cell_type": "code",
   "execution_count": null,
   "id": "bcbfb8f1",
   "metadata": {},
   "outputs": [],
   "source": [
    "slider_row = pn.Row(time_slider, depth_slider)"
   ]
  },
  {
   "cell_type": "code",
   "execution_count": null,
   "id": "2bb199fc",
   "metadata": {},
   "outputs": [],
   "source": [
    "map_row = pn.Row(pn.bind(update, time=time_slider, depth=depth_slider))"
   ]
  },
  {
   "cell_type": "code",
   "execution_count": null,
   "id": "06f5ca6f",
   "metadata": {},
   "outputs": [],
   "source": [
    "dash = pn.Column(slider_row, map_row).servable(f'HelloSCHISM: {varname}')"
   ]
  },
  {
   "cell_type": "code",
   "execution_count": null,
   "id": "c21513dd",
   "metadata": {},
   "outputs": [],
   "source": [
    "dash.show()"
   ]
  },
  {
   "cell_type": "code",
   "execution_count": null,
   "id": "6f356ad7",
   "metadata": {},
   "outputs": [],
   "source": []
  }
 ],
 "metadata": {
  "kernelspec": {
   "display_name": "Python [conda env:schism_viz]",
   "language": "python",
   "name": "conda-env-schism_viz-py"
  },
  "language_info": {
   "codemirror_mode": {
    "name": "ipython",
    "version": 3
   },
   "file_extension": ".py",
   "mimetype": "text/x-python",
   "name": "python",
   "nbconvert_exporter": "python",
   "pygments_lexer": "ipython3",
   "version": "3.8.15"
  },
  "toc": {
   "base_numbering": 1,
   "nav_menu": {},
   "number_sections": true,
   "sideBar": true,
   "skip_h1_title": false,
   "title_cell": "Table of Contents",
   "title_sidebar": "Contents",
   "toc_cell": false,
   "toc_position": {},
   "toc_section_display": true,
   "toc_window_display": false
  }
 },
 "nbformat": 4,
 "nbformat_minor": 5
}
