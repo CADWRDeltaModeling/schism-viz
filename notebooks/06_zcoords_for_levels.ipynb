{
 "cells": [
  {
   "cell_type": "code",
   "execution_count": null,
   "id": "cb251902",
   "metadata": {},
   "outputs": [],
   "source": [
    "import xarray as xr"
   ]
  },
  {
   "cell_type": "code",
   "execution_count": null,
   "id": "8a2a395e",
   "metadata": {},
   "outputs": [],
   "source": [
    "zcoords = xr.open_dataset('../tests/data/m1_hello_schism/outputs/zCoordinates_2.nc')"
   ]
  },
  {
   "cell_type": "code",
   "execution_count": null,
   "id": "56acbbab",
   "metadata": {},
   "outputs": [],
   "source": [
    "zcoords"
   ]
  },
  {
   "cell_type": "code",
   "execution_count": null,
   "id": "a6e93557",
   "metadata": {},
   "outputs": [],
   "source": []
  }
 ],
 "metadata": {
  "kernelspec": {
   "display_name": "Python [conda env:schism_viz]",
   "language": "python",
   "name": "conda-env-schism_viz-py"
  },
  "language_info": {
   "codemirror_mode": {
    "name": "ipython",
    "version": 3
   },
   "file_extension": ".py",
   "mimetype": "text/x-python",
   "name": "python",
   "nbconvert_exporter": "python",
   "pygments_lexer": "ipython3",
   "version": "3.8.15"
  },
  "toc": {
   "base_numbering": 1,
   "nav_menu": {},
   "number_sections": true,
   "sideBar": true,
   "skip_h1_title": false,
   "title_cell": "Table of Contents",
   "title_sidebar": "Contents",
   "toc_cell": false,
   "toc_position": {},
   "toc_section_display": true,
   "toc_window_display": false
  }
 },
 "nbformat": 4,
 "nbformat_minor": 5
}
