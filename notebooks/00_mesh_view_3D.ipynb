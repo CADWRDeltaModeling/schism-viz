{
 "cells": [
  {
   "cell_type": "markdown",
   "id": "06289c5b",
   "metadata": {},
   "source": [
    "# Display mesh in 3D and using color on 2D"
   ]
  },
  {
   "cell_type": "code",
   "execution_count": null,
   "id": "ac98c519",
   "metadata": {},
   "outputs": [],
   "source": [
    "import pandas as pd\n",
    "import holoviews as hv"
   ]
  },
  {
   "cell_type": "markdown",
   "id": "dab6f85f",
   "metadata": {},
   "source": [
    "## Read in mesh from hgrid.gr3 file"
   ]
  },
  {
   "cell_type": "code",
   "execution_count": null,
   "id": "e26c4757",
   "metadata": {},
   "outputs": [],
   "source": [
    "from schimpy import schism_mesh\n",
    "\n",
    "smesh = schism_mesh.read_mesh('../tests/data/m1_hello_schism/hgrid.gr3')"
   ]
  },
  {
   "cell_type": "code",
   "execution_count": null,
   "id": "aa592db3",
   "metadata": {},
   "outputs": [],
   "source": [
    "dfelems = pd.DataFrame(smesh.elems,columns=[0,1,2])\n",
    "dfelems"
   ]
  },
  {
   "cell_type": "markdown",
   "id": "16ef9272",
   "metadata": {},
   "source": [
    "replace 'z' with negative values for depth "
   ]
  },
  {
   "cell_type": "code",
   "execution_count": null,
   "id": "1b2d4826",
   "metadata": {},
   "outputs": [],
   "source": [
    "dfnodes = pd.DataFrame(smesh.nodes, columns=['x','y','z'])\n",
    "dfnodes['depth'] = -dfnodes.z\n",
    "dfnodes = dfnodes.drop(columns=['z'])\n",
    "dfnodes"
   ]
  },
  {
   "cell_type": "markdown",
   "id": "9dd709db",
   "metadata": {},
   "source": [
    "## TriSurface drawn using nodes and elements\n",
    "\n",
    "Adapted from https://anaconda.org/philippjfr/brain/notebook?version=2017.05.04.1924\n",
    "\n",
    "The code below allows for the simplices already defined by elems to be used instead of doing a Delaunay triangulation (used from scipy as a way to calculate the simplices)"
   ]
  },
  {
   "cell_type": "code",
   "execution_count": null,
   "id": "f15c76d8",
   "metadata": {},
   "outputs": [],
   "source": [
    "# uncomment and the run install script below if plotly is not available\n",
    "#!conda install -y -c conda-forge plotly\n",
    "\n",
    "hv.extension('plotly')\n",
    "\n",
    "import param\n",
    "\n",
    "class TriSurface(hv.TriSurface):\n",
    "    \n",
    "    simplices = param.Array()\n",
    "\n",
    "class TriSurfacePlot(hv.plotting.plotly.TriSurfacePlot):\n",
    "\n",
    "    style_opts = ['cmap', 'plot_edges']\n",
    "\n",
    "    def get_data(self, element, ranges, style, **kwargs):\n",
    "        if element.simplices is None:\n",
    "            return super(TriSurfacePlot, self).get_data(element, ranges, style, **kwargs)\n",
    "        x, y, z = (element.dimension_values(i) for i in range(3))\n",
    "        simplices = element.simplices\n",
    "        return [dict(x=x, y=y, z=z, simplices=simplices)]\n",
    "    \n",
    "hv.Store.register({TriSurface: TriSurfacePlot}, 'plotly')\n",
    "\n",
    "tris = TriSurface(dfnodes, simplices = dfelems.values).opts(width=800, height=800, cmap='blues_r')\n",
    "tris.opts(plot_edges=False, colorbar=True)"
   ]
  },
  {
   "cell_type": "markdown",
   "id": "8f7e6bbf",
   "metadata": {},
   "source": [
    "Save mesh as html to embed in docs"
   ]
  },
  {
   "cell_type": "code",
   "execution_count": null,
   "id": "9ad2a012",
   "metadata": {},
   "outputs": [],
   "source": [
    "hv.save(tris,'mesh_surface_colored_by_depth.html')"
   ]
  },
  {
   "cell_type": "markdown",
   "id": "9f1b1ccd",
   "metadata": {},
   "source": [
    "## Trimesh to show z values with color\n",
    "Alternate way of displaying the z (depth values) with color"
   ]
  },
  {
   "cell_type": "code",
   "execution_count": null,
   "id": "da467826",
   "metadata": {},
   "outputs": [],
   "source": [
    "hv.extension('bokeh')\n",
    "from holoviews.operation import datashader\n",
    "trimesh = hv.TriMesh((dfelems.values, hv.Points(dfnodes,vdims='depth'))).opts(cmap='fire',node_alpha=0,edge_color='z',filled=True)\n",
    "img = datashader.rasterize(trimesh).opts(cmap='rainbow4', colorbar=True, tools=['hover'], width=800)\n",
    "img"
   ]
  },
  {
   "cell_type": "code",
   "execution_count": null,
   "id": "2f0a9183",
   "metadata": {},
   "outputs": [],
   "source": [
    "hv.save(img,'mesh_colored_by_depth.html')"
   ]
  },
  {
   "cell_type": "code",
   "execution_count": null,
   "id": "f27417bb",
   "metadata": {},
   "outputs": [],
   "source": []
  }
 ],
 "metadata": {
  "kernelspec": {
   "display_name": "Python [conda env:schism_viz]",
   "language": "python",
   "name": "conda-env-schism_viz-py"
  },
  "language_info": {
   "codemirror_mode": {
    "name": "ipython",
    "version": 3
   },
   "file_extension": ".py",
   "mimetype": "text/x-python",
   "name": "python",
   "nbconvert_exporter": "python",
   "pygments_lexer": "ipython3",
   "version": "3.8.16"
  },
  "toc": {
   "base_numbering": 1,
   "nav_menu": {},
   "number_sections": true,
   "sideBar": true,
   "skip_h1_title": false,
   "title_cell": "Table of Contents",
   "title_sidebar": "Contents",
   "toc_cell": false,
   "toc_position": {},
   "toc_section_display": true,
   "toc_window_display": false
  }
 },
 "nbformat": 4,
 "nbformat_minor": 5
}
