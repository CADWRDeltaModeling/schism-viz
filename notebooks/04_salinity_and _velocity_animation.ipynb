{
 "cells": [
  {
   "cell_type": "markdown",
   "id": "2c84fc8e",
   "metadata": {},
   "source": [
    "# Plot salinity with velocity vectors\n",
    "Combine the salinity color plot with velocity vectors"
   ]
  },
  {
   "cell_type": "code",
   "execution_count": null,
   "id": "3c8dd7c2",
   "metadata": {},
   "outputs": [],
   "source": [
    "%load_ext autoreload\n",
    "%autoreload 2"
   ]
  },
  {
   "cell_type": "code",
   "execution_count": null,
   "id": "0059907a",
   "metadata": {},
   "outputs": [],
   "source": [
    "import numpy as np\n",
    "import pandas as pd\n",
    "import xarray as xr\n",
    "#\n",
    "from schimpy import schism_mesh\n",
    "# viz\n",
    "import hvplot.pandas\n",
    "import hvplot.xarray\n",
    "import holoviews as hv\n",
    "from holoviews import opts,dim\n",
    "hv.extension('bokeh')\n",
    "# widgets\n",
    "import panel as pn\n",
    "pn.extension()"
   ]
  },
  {
   "cell_type": "code",
   "execution_count": null,
   "id": "dbd41742",
   "metadata": {},
   "outputs": [],
   "source": [
    "# for advanced viz ops\n",
    "import datashader\n",
    "import holoviews.operation.datashader as hd\n",
    "from holoviews.operation.datashader import datashade, rasterize\n",
    "import warnings\n",
    "warnings.filterwarnings('ignore')"
   ]
  },
  {
   "cell_type": "markdown",
   "id": "23db6c4d",
   "metadata": {},
   "source": [
    "## Open the data sets"
   ]
  },
  {
   "cell_type": "code",
   "execution_count": null,
   "id": "ea10a53b",
   "metadata": {},
   "outputs": [],
   "source": [
    "varname = 'salinity'"
   ]
  },
  {
   "cell_type": "code",
   "execution_count": null,
   "id": "e7f53812",
   "metadata": {},
   "outputs": [],
   "source": [
    "dsv = xr.open_dataset('../tests/data/m1_hello_schism/outputs/out2d_1.nc')\n",
    "dsv"
   ]
  },
  {
   "cell_type": "code",
   "execution_count": null,
   "id": "da026903",
   "metadata": {},
   "outputs": [],
   "source": [
    "file=f'../tests/data/m1_hello_schism/outputs/{varname}_2.nc'\n",
    "ds = xr.open_dataset(file)\n",
    "ds"
   ]
  },
  {
   "cell_type": "markdown",
   "id": "97aea73e",
   "metadata": {},
   "source": [
    "## Read mesh information"
   ]
  },
  {
   "cell_type": "code",
   "execution_count": null,
   "id": "c6ac1ebe",
   "metadata": {},
   "outputs": [],
   "source": [
    "smesh = schism_mesh.read_mesh('../tests/data/m1_hello_schism/hgrid.gr3')"
   ]
  },
  {
   "cell_type": "code",
   "execution_count": null,
   "id": "201ddc13",
   "metadata": {},
   "outputs": [],
   "source": [
    "smesh.n_nodes(), smesh.n_edges(), smesh.n_elems()"
   ]
  },
  {
   "cell_type": "code",
   "execution_count": null,
   "id": "3d18325a",
   "metadata": {},
   "outputs": [],
   "source": [
    "nodes = pd.DataFrame(smesh.nodes,columns=['x','y','z'])\n",
    "nodes\n",
    "nodes[varname] = ds[varname].values[0,:,0]"
   ]
  },
  {
   "cell_type": "code",
   "execution_count": null,
   "id": "192b61c6",
   "metadata": {},
   "outputs": [],
   "source": [
    "trimesh = hv.TriMesh((smesh.elems, hv.Points(nodes, vdims=varname)))"
   ]
  },
  {
   "cell_type": "code",
   "execution_count": null,
   "id": "2e5b5fc1",
   "metadata": {},
   "outputs": [],
   "source": [
    "trimesh = trimesh.opts(\n",
    "    opts.TriMesh(cmap='rainbow4', cnorm='eq_hist', colorbar=True, node_alpha=0, edge_alpha=0, edge_color=varname, filled=True, height=400, \n",
    "                 inspection_policy='edges', tools=['hover'], width=400))"
   ]
  },
  {
   "cell_type": "code",
   "execution_count": null,
   "id": "ffaa24af",
   "metadata": {},
   "outputs": [],
   "source": [
    "trimesh.nodes.data"
   ]
  },
  {
   "cell_type": "markdown",
   "id": "e870df3c",
   "metadata": {},
   "source": [
    "## Calculate velocity vectors from depth averaged X and Y velocity vectors"
   ]
  },
  {
   "cell_type": "code",
   "execution_count": null,
   "id": "3e4bcc14",
   "metadata": {},
   "outputs": [],
   "source": [
    "vmag = np.sqrt(dsv.depthAverageVelX**2+dsv.depthAverageVelY**2)\n",
    "vangle = np.arctan2(dsv.depthAverageVelY,dsv.depthAverageVelX)\n",
    "vel = xr.Dataset({'mag':vmag,'angle': vangle})\n",
    "vel## Calculate velocity vectors from depth averaged X and Y velocity vectors"
   ]
  },
  {
   "cell_type": "markdown",
   "id": "1206f253",
   "metadata": {},
   "source": [
    "## Map of velocity vectors"
   ]
  },
  {
   "cell_type": "code",
   "execution_count": null,
   "id": "dc6a0ff0",
   "metadata": {},
   "outputs": [],
   "source": [
    "def velocity_field(time, vector_size=1):\n",
    "    data = vel.isel(time=time)\n",
    "    vf = hv.VectorField((vel.coords['SCHISM_hgrid_node_x'],vel.coords['SCHISM_hgrid_node_y'],data.angle, data.mag))\n",
    "    vf.opts(opts.VectorField(pivot='tip', color=dim('Magnitude'), magnitude=dim('Magnitude').norm()*2000*vector_size, rescale_lengths=False))\n",
    "    return vf.opts(width=600)"
   ]
  },
  {
   "cell_type": "code",
   "execution_count": null,
   "id": "229c166f",
   "metadata": {},
   "outputs": [],
   "source": [
    "velocity_field(70,1)"
   ]
  },
  {
   "cell_type": "markdown",
   "id": "e968f669",
   "metadata": {},
   "source": [
    "## DynamicMap of salinity colors"
   ]
  },
  {
   "cell_type": "code",
   "execution_count": null,
   "id": "bf4ebc60",
   "metadata": {},
   "outputs": [],
   "source": [
    "def salinity_mesh(time, depth):\n",
    "    trimesh.nodes.data[varname] = ds[varname].values[time, :, depth]\n",
    "    return rasterize(trimesh, precompute=False, dynamic=True, \n",
    "                        aggregator=datashader.mean(varname)).opts(\n",
    "            colorbar=True, cmap='rainbow4', width=600, height=300, tools=['hover'])"
   ]
  },
  {
   "cell_type": "code",
   "execution_count": null,
   "id": "7f82a979",
   "metadata": {},
   "outputs": [],
   "source": [
    "salinity_mesh(0,0)"
   ]
  },
  {
   "cell_type": "markdown",
   "id": "3b2db71a",
   "metadata": {},
   "source": [
    "## Overlay the salinity mesh with the velocity field"
   ]
  },
  {
   "cell_type": "code",
   "execution_count": null,
   "id": "24385497",
   "metadata": {},
   "outputs": [],
   "source": [
    "def update(time, depth):\n",
    "    return salinity_mesh(time,depth).opts(width=1000, height=500)*velocity_field(time, 1)"
   ]
  },
  {
   "cell_type": "markdown",
   "id": "f1dd744f",
   "metadata": {},
   "source": [
    "## Add widgets and show in a separate dashboard"
   ]
  },
  {
   "cell_type": "code",
   "execution_count": null,
   "id": "aca5d84b",
   "metadata": {},
   "outputs": [],
   "source": [
    "import panel as pn\n",
    "pn.extension()"
   ]
  },
  {
   "cell_type": "code",
   "execution_count": null,
   "id": "3e4e9c6b",
   "metadata": {},
   "outputs": [],
   "source": [
    "time_slider= pn.widgets.DiscreteSlider(name='Time',\n",
    "                                       options=dict(zip(ds.time.astype('str').values,\n",
    "                                                        range(len(ds.time)))))\n",
    "depth_slider= pn.widgets.Select(name='nSCHISM_vgrid_layers',\n",
    "                                options=dict(zip(ds.nSCHISM_vgrid_layers.astype('str').values, \n",
    "                                                 range(len(ds.nSCHISM_vgrid_layers)))))"
   ]
  },
  {
   "cell_type": "code",
   "execution_count": null,
   "id": "bcbfb8f1",
   "metadata": {},
   "outputs": [],
   "source": [
    "slider_row = pn.Row(time_slider, depth_slider)"
   ]
  },
  {
   "cell_type": "code",
   "execution_count": null,
   "id": "2bb199fc",
   "metadata": {},
   "outputs": [],
   "source": [
    "map_row = pn.Row(pn.bind(update, time=time_slider, depth=depth_slider))"
   ]
  },
  {
   "cell_type": "code",
   "execution_count": null,
   "id": "06f5ca6f",
   "metadata": {},
   "outputs": [],
   "source": [
    "dash = pn.Column(slider_row, map_row).servable(f'HelloSCHISM: {varname}')"
   ]
  },
  {
   "cell_type": "code",
   "execution_count": null,
   "id": "c21513dd",
   "metadata": {},
   "outputs": [],
   "source": [
    "dash.show()"
   ]
  }
 ],
 "metadata": {
  "kernelspec": {
   "display_name": "Python [conda env:schism_viz]",
   "language": "python",
   "name": "conda-env-schism_viz-py"
  },
  "language_info": {
   "codemirror_mode": {
    "name": "ipython",
    "version": 3
   },
   "file_extension": ".py",
   "mimetype": "text/x-python",
   "name": "python",
   "nbconvert_exporter": "python",
   "pygments_lexer": "ipython3",
   "version": "3.8.15"
  },
  "toc": {
   "base_numbering": 1,
   "nav_menu": {},
   "number_sections": true,
   "sideBar": true,
   "skip_h1_title": false,
   "title_cell": "Table of Contents",
   "title_sidebar": "Contents",
   "toc_cell": false,
   "toc_position": {},
   "toc_section_display": true,
   "toc_window_display": false
  }
 },
 "nbformat": 4,
 "nbformat_minor": 5
}
