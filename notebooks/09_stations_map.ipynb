{
 "cells": [
  {
   "cell_type": "markdown",
   "id": "cf37e9a8",
   "metadata": {},
   "source": [
    "# Show stations on the mesh "
   ]
  },
  {
   "cell_type": "markdown",
   "id": "55136e41",
   "metadata": {},
   "source": [
    "## Read in stations info"
   ]
  },
  {
   "cell_type": "code",
   "execution_count": null,
   "id": "7995489b",
   "metadata": {},
   "outputs": [],
   "source": [
    "import schimpy\n",
    "\n",
    "from schimpy import station\n",
    "dfs = station.read_station_in('../tests/data/m1_hello_schism/station.in')\n",
    "dfs = dfs.reset_index()"
   ]
  },
  {
   "cell_type": "markdown",
   "id": "ab427b03",
   "metadata": {},
   "source": [
    "## Read in mesh info"
   ]
  },
  {
   "cell_type": "code",
   "execution_count": null,
   "id": "43b2732c",
   "metadata": {},
   "outputs": [],
   "source": [
    "from schimpy import schism_mesh\n",
    "\n",
    "grid = schism_mesh.read_mesh('../tests/data/m1_hello_schism/hgrid.gr3')"
   ]
  },
  {
   "cell_type": "code",
   "execution_count": null,
   "id": "8b981d76",
   "metadata": {},
   "outputs": [],
   "source": [
    "import holoviews as hv\n",
    "hv.extension('bokeh')\n",
    "from holoviews import opts, dim, streams\n",
    "from holoviews.operation import datashader\n",
    "import warnings\n",
    "warnings.filterwarnings('ignore')\n",
    "import panel as pn\n",
    "pn.extension()"
   ]
  },
  {
   "cell_type": "markdown",
   "id": "7de9b31f",
   "metadata": {},
   "source": [
    "## Show points on top of mesh"
   ]
  },
  {
   "cell_type": "code",
   "execution_count": null,
   "id": "57ff2bba",
   "metadata": {},
   "outputs": [],
   "source": [
    "trimesh = hv.TriMesh((grid.elems, grid.nodes))\n",
    "# rasterize to view faster, zoom in to clarify features\n",
    "img = datashader.rasterize(trimesh.edgepaths).opts(opts.Image(cmap=['darkblue'])).opts(width=800, height=400)\n",
    "# spread image pixels to see mesh in a more bold style\n",
    "elems_only = datashader.spread(img)\n",
    "\n",
    "nodes_only = datashader.dynspread(datashader.rasterize(trimesh.nodes).opts(opts.Image(cmap=['blue'])), shape='circle', max_px=6)\n",
    "\n",
    "full_mesh = elems_only*nodes_only\n",
    "\n",
    "elems_only.opts(alpha=0.2)*hv.Points(dfs, kdims=['x','y'], \n",
    "                                     vdims=['z','id','subloc','name']).opts(color='red', \n",
    "                                                                        size=10,\n",
    "                                                                        tools=['hover'])"
   ]
  },
  {
   "cell_type": "code",
   "execution_count": null,
   "id": "6c2eb13b",
   "metadata": {},
   "outputs": [],
   "source": [
    "trimesh = hv.TriMesh((grid.elems, grid.nodes))\n",
    "# rasterize to view faster, zoom in to clarify features\n",
    "img = datashader.rasterize(trimesh.edgepaths).opts(opts.Image(cmap=['darkblue'])).opts(width=800, height=400)\n",
    "# spread image pixels to see mesh in a more bold style\n",
    "elems_only = datashader.spread(img)\n",
    "\n",
    "nodes_only = datashader.dynspread(datashader.rasterize(trimesh.nodes).opts(opts.Image(cmap=['blue'])), shape='circle', max_px=6)\n",
    "\n",
    "full_mesh = elems_only*nodes_only\n",
    "\n",
    "elems_only.opts(alpha=0.2)*hv.Points(dfs, kdims=['x','y'], \n",
    "                                     vdims=['z','id','subloc','name']).opts(color='red', \n",
    "                                                                        size=10,\n",
    "                                                                        tools=['hover'])"
   ]
  },
  {
   "cell_type": "markdown",
   "id": "0ed5c32b",
   "metadata": {},
   "source": [
    "## Read and plot stations info"
   ]
  },
  {
   "cell_type": "code",
   "execution_count": null,
   "id": "4e85e614",
   "metadata": {},
   "outputs": [],
   "source": [
    "# param.nml has the time in the OPT section, but no parser for .nml files found\n",
    "\n",
    "from datetime import datetime\n",
    "\n",
    "import pandas as pd\n",
    "import hvplot.pandas\n",
    "\n",
    "def read_and_plot(file, station_file, reftime):\n",
    "    df1 = station.read_staout(file, station_file, reftime)\n",
    "    df1.index.name='Time' # workaround for hvplot bug\n",
    "    return df1.hvplot()\n",
    "\n",
    "reftime = datetime(2000,1,1)\n",
    "\n",
    "plots = []\n",
    "for index in range(1,10):\n",
    "    fpath = f'../tests/data/m1_hello_schism/outputs/staout_{index}'\n",
    "    station_file = '../tests/data/m1_hello_schism/station.in'\n",
    "    vartype = schimpy.station.station_variables[index-1]\n",
    "    try:\n",
    "        plot = read_and_plot(fpath, station_file, reftime).opts(ylabel=f'{vartype}')\n",
    "        plots.append(plot)\n",
    "    except:\n",
    "        pass\n",
    "        #print(f'No data for index: {index}: {vartype}')\n",
    "\n",
    "hv.Layout(plots).cols(1).opts(shared_axes=False)"
   ]
  },
  {
   "cell_type": "markdown",
   "id": "bad29af1",
   "metadata": {},
   "source": [
    "## Select station points and display station out info"
   ]
  },
  {
   "cell_type": "code",
   "execution_count": null,
   "id": "c2f01596",
   "metadata": {},
   "outputs": [],
   "source": [
    "selectable_pts = hv.Points(dfs, kdims=['x','y'], \n",
    "                                     vdims=['z','id','subloc','name']).opts(color='red', \n",
    "                                                                        size=10,\n",
    "                                                                        tools=['hover','tap'])\n",
    "\n",
    "select_station = streams.Selection1D(source=selectable_pts)\n",
    "\n",
    "\n",
    "def read_station_data(station_id, vartype, file_path_prefix, reftime):\n",
    "    station_index = schimpy.station.station_variables.index(vartype)\n",
    "    print(station_index)\n",
    "    file = f'{file_path_prefix}{station_index+1}'\n",
    "    df = station.read_staout(file, station_file, reftime)\n",
    "    df.index.name='Time' # workaround for hvplot bug\n",
    "    selected_cols = df.columns[df.columns.str.contains(station_id)]\n",
    "    return df[list(selected_cols)]\n",
    "\n",
    "def show_station_data(station_id, vartype, file_path_prefix, reftime):\n",
    "    df = read_station_data(station_id, vartype, file_path_prefix, reftime)\n",
    "    return df.hvplot()\n",
    " \n",
    "\n",
    "#show_station_data('ocean', 'elev', '../tests/data/m1_hello_schism/outputs/staout_', reftime)\n",
    "\n",
    "def show_station_data_for_index(index, vartype):\n",
    "    if not index:\n",
    "        return hv.Div('Select a point from the map')\n",
    "    sdfs = dfs.iloc[index]\n",
    "    ids = sdfs['id'].unique()\n",
    "    return hv.Overlay([show_station_data(id, \n",
    "                                 vartype, \n",
    "                                 '../tests/data/m1_hello_schism/outputs/staout_',\n",
    "                                 reftime) for id in ids])"
   ]
  },
  {
   "cell_type": "code",
   "execution_count": null,
   "id": "9ba3923d",
   "metadata": {},
   "outputs": [],
   "source": [
    "vartype = pn.widgets.Select(options=station.station_variables)\n",
    "\n",
    "pn.Column(elems_only.opts(alpha=0.2)*selectable_pts, \n",
    "          vartype,\n",
    "           pn.Row(pn.bind(show_station_data_for_index, \n",
    "                          index = select_station.param.index, \n",
    "                          vartype = vartype)))"
   ]
  },
  {
   "cell_type": "markdown",
   "id": "55efe91c",
   "metadata": {},
   "source": [
    "## Closest element ID on tap"
   ]
  },
  {
   "cell_type": "code",
   "execution_count": null,
   "id": "28d7e206",
   "metadata": {},
   "outputs": [],
   "source": [
    "import numpy as np\n",
    "\n",
    "points = hv.Points([])\n",
    "taps = hv.streams.Tap(source=points, x=np.nan, y=np.nan)\n",
    "\n",
    "def location(x, y):\n",
    "    if np.isnan(x) or np.isnan(y):\n",
    "        element_id = np.nan\n",
    "    else:\n",
    "        element_id = grid.find_closest_elems([x,y])\n",
    "    return pn.pane.Str(f'Click at {x:.2f}, {y:.2f}\\nclosest element {element_id}')\n",
    "\n",
    "pn.Column(points*elems_only, pn.bind(location, x=taps.param.x, y= taps.param.y))"
   ]
  },
  {
   "cell_type": "code",
   "execution_count": null,
   "id": "d6b0a9ba",
   "metadata": {},
   "outputs": [],
   "source": []
  }
 ],
 "metadata": {
  "kernelspec": {
   "display_name": "Python [conda env:schism_viz]",
   "language": "python",
   "name": "conda-env-schism_viz-py"
  },
  "language_info": {
   "codemirror_mode": {
    "name": "ipython",
    "version": 3
   },
   "file_extension": ".py",
   "mimetype": "text/x-python",
   "name": "python",
   "nbconvert_exporter": "python",
   "pygments_lexer": "ipython3",
   "version": "3.8.16"
  },
  "toc": {
   "base_numbering": 1,
   "nav_menu": {},
   "number_sections": true,
   "sideBar": true,
   "skip_h1_title": false,
   "title_cell": "Table of Contents",
   "title_sidebar": "Contents",
   "toc_cell": false,
   "toc_position": {},
   "toc_section_display": true,
   "toc_window_display": false
  }
 },
 "nbformat": 4,
 "nbformat_minor": 5
}
