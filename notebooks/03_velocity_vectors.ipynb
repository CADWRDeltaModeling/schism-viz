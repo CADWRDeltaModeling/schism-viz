{
 "cells": [
  {
   "cell_type": "markdown",
   "id": "42fd832b",
   "metadata": {},
   "source": [
    "# Display velocity vectors on the domain"
   ]
  },
  {
   "cell_type": "code",
   "execution_count": null,
   "id": "7052885c",
   "metadata": {},
   "outputs": [],
   "source": [
    "import xarray as xr"
   ]
  },
  {
   "cell_type": "markdown",
   "id": "3708ebb0",
   "metadata": {},
   "source": [
    "## Output nc file"
   ]
  },
  {
   "cell_type": "code",
   "execution_count": null,
   "id": "de4f458f",
   "metadata": {},
   "outputs": [],
   "source": [
    "ds = xr.open_mfdataset(f'../tests/data/m1_hello_schism/outputs/out2d_*.nc', concat_dim='time', combine=\"nested\",\n",
    "                  data_vars='minimal', coords='minimal', compat='override')\n",
    "ds"
   ]
  },
  {
   "cell_type": "code",
   "execution_count": null,
   "id": "9d19cc10",
   "metadata": {},
   "outputs": [],
   "source": [
    "from schimpy import schism_mesh\n",
    "import numpy as np\n",
    "import pandas as pd\n",
    "\n",
    "import hvplot.xarray\n",
    "import holoviews as hv\n",
    "from holoviews import opts,dim\n",
    "hv.extension('bokeh')\n",
    "\n",
    "import panel as pn\n",
    "pn.extension()"
   ]
  },
  {
   "cell_type": "markdown",
   "id": "23c45275",
   "metadata": {},
   "source": [
    "## Read in hgrid"
   ]
  },
  {
   "cell_type": "code",
   "execution_count": null,
   "id": "94ab8ca0",
   "metadata": {},
   "outputs": [],
   "source": [
    "smesh = schism_mesh.read_mesh('../tests/data/m1_hello_schism/hgrid.gr3')\n",
    "\n",
    "dfelems = pd.DataFrame(smesh.elems,columns=[0,1,2])\n",
    "#dfelems\n",
    "\n",
    "dfnodes = pd.DataFrame(smesh.nodes, columns=['x','y','z'])\n",
    "#dfnodes"
   ]
  },
  {
   "cell_type": "markdown",
   "id": "894aeb3a",
   "metadata": {},
   "source": [
    "## Calculate velocity vectors from depth averaged X and Y velocity vectors"
   ]
  },
  {
   "cell_type": "code",
   "execution_count": null,
   "id": "8b395893",
   "metadata": {},
   "outputs": [],
   "source": [
    "vmag = np.sqrt(ds.depthAverageVelX**2+ds.depthAverageVelY**2)\n",
    "vangle = np.arctan2(ds.depthAverageVelY,ds.depthAverageVelX)\n",
    "vel = xr.Dataset({'mag':vmag,'angle': vangle})\n",
    "vel"
   ]
  },
  {
   "cell_type": "markdown",
   "id": "66bac6b8",
   "metadata": {},
   "source": [
    "## Animate velocity vectors with time\n",
    "\n",
    "The length of the vectors needs to be scaled depending upon the zoom in and magnitude"
   ]
  },
  {
   "cell_type": "code",
   "execution_count": null,
   "id": "a1bdb8e1",
   "metadata": {},
   "outputs": [],
   "source": [
    "def velocity_field(time, vector_size=1):\n",
    "    data = vel.isel(time=time)\n",
    "    vf = hv.VectorField((vel.coords['SCHISM_hgrid_node_x'],vel.coords['SCHISM_hgrid_node_y'],data.angle, data.mag))\n",
    "    vf.opts(opts.VectorField(pivot='tip', color=dim('Magnitude'), magnitude=dim('Magnitude').norm()*2000*vector_size, rescale_lengths=False))\n",
    "    return vf.opts(width=600)\n",
    "\n",
    "dmap = hv.DynamicMap(velocity_field,kdims=['time','vector_size']).opts(title='Velocity Vectors')\n",
    "\n",
    "hv.output(widget_location='top')\n",
    "\n",
    "dmap = dmap.redim.range(time=(0,len(vel.time)-1)).redim.values(vector_size=[0.25,0.5,0.75,1,2,5,10,20])"
   ]
  },
  {
   "cell_type": "code",
   "execution_count": null,
   "id": "055b899e",
   "metadata": {},
   "outputs": [],
   "source": [
    "dash = pn.Row(dmap)"
   ]
  },
  {
   "cell_type": "code",
   "execution_count": null,
   "id": "afbee604",
   "metadata": {},
   "outputs": [],
   "source": [
    "dash.servable('Velocity Vector Animations')#.show()"
   ]
  }
 ],
 "metadata": {
  "kernelspec": {
   "display_name": "Python [conda env:schism_viz]",
   "language": "python",
   "name": "conda-env-schism_viz-py"
  },
  "language_info": {
   "codemirror_mode": {
    "name": "ipython",
    "version": 3
   },
   "file_extension": ".py",
   "mimetype": "text/x-python",
   "name": "python",
   "nbconvert_exporter": "python",
   "pygments_lexer": "ipython3",
   "version": "3.8.15"
  },
  "toc": {
   "base_numbering": 1,
   "nav_menu": {},
   "number_sections": true,
   "sideBar": true,
   "skip_h1_title": false,
   "title_cell": "Table of Contents",
   "title_sidebar": "Contents",
   "toc_cell": false,
   "toc_position": {},
   "toc_section_display": true,
   "toc_window_display": false
  }
 },
 "nbformat": 4,
 "nbformat_minor": 5
}
