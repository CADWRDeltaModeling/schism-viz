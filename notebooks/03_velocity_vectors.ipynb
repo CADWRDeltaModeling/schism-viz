{
 "cells": [
  {
   "cell_type": "markdown",
   "id": "42fd832b",
   "metadata": {},
   "source": [
    "# Display velocity vectors on the domain"
   ]
  },
  {
   "cell_type": "code",
   "execution_count": null,
   "id": "7052885c",
   "metadata": {},
   "outputs": [],
   "source": [
    "import xarray as xr"
   ]
  },
  {
   "cell_type": "code",
   "execution_count": null,
   "id": "f66de4c6",
   "metadata": {},
   "outputs": [],
   "source": [
    "ds = xr.open_dataset('../tests/data/m1_hello_schism/outputs/out2d_1.nc')\n",
    "ds"
   ]
  },
  {
   "cell_type": "code",
   "execution_count": null,
   "id": "9d19cc10",
   "metadata": {},
   "outputs": [],
   "source": [
    "from schimpy import schism_mesh"
   ]
  },
  {
   "cell_type": "code",
   "execution_count": null,
   "id": "94ab8ca0",
   "metadata": {},
   "outputs": [],
   "source": [
    "smesh = schism_mesh.read_mesh('../tests/data/m1_hello_schism/hgrid.gr3')"
   ]
  },
  {
   "cell_type": "code",
   "execution_count": null,
   "id": "575b3557",
   "metadata": {},
   "outputs": [],
   "source": [
    "import pandas as pd\n",
    "\n",
    "import holoviews as hv"
   ]
  },
  {
   "cell_type": "code",
   "execution_count": null,
   "id": "ee2b54b7",
   "metadata": {},
   "outputs": [],
   "source": [
    "dfelems = pd.DataFrame(smesh.elems,columns=[0,1,2])\n",
    "dfelems"
   ]
  },
  {
   "cell_type": "code",
   "execution_count": null,
   "id": "fc04c457",
   "metadata": {},
   "outputs": [],
   "source": [
    "dfnodes = pd.DataFrame(smesh.nodes, columns=['x','y','z'])\n",
    "dfnodes"
   ]
  },
  {
   "cell_type": "code",
   "execution_count": null,
   "id": "7453c7a9",
   "metadata": {},
   "outputs": [],
   "source": [
    "#!conda install -y -c conda-forge plotly"
   ]
  },
  {
   "cell_type": "markdown",
   "id": "2d0029b3",
   "metadata": {},
   "source": [
    "#Adapted from https://anaconda.org/philippjfr/brain/notebook?version=2017.05.04.1924\n",
    "\n",
    "The code below allows for the simplices already defined by elems to be used instead of doing a Delaunay triangulation (used from scipy as a way to calculate the simplices)"
   ]
  },
  {
   "cell_type": "code",
   "execution_count": null,
   "id": "669103bf",
   "metadata": {},
   "outputs": [],
   "source": [
    "hv.extension('bokeh')"
   ]
  },
  {
   "cell_type": "code",
   "execution_count": null,
   "id": "c4dbc55b",
   "metadata": {},
   "outputs": [],
   "source": [
    "import panel as pn\n",
    "pn.extension()"
   ]
  },
  {
   "cell_type": "code",
   "execution_count": null,
   "id": "ed4f3465",
   "metadata": {},
   "outputs": [],
   "source": [
    "ds.depthAverageVelX.dims"
   ]
  },
  {
   "cell_type": "code",
   "execution_count": null,
   "id": "3a7492c1",
   "metadata": {},
   "outputs": [],
   "source": [
    "import numpy as np"
   ]
  },
  {
   "cell_type": "code",
   "execution_count": null,
   "id": "8b395893",
   "metadata": {},
   "outputs": [],
   "source": [
    "vmag = np.sqrt(ds.depthAverageVelX**2+ds.depthAverageVelY**2)"
   ]
  },
  {
   "cell_type": "code",
   "execution_count": null,
   "id": "55d87d4e",
   "metadata": {},
   "outputs": [],
   "source": [
    "vangle = np.arctan(ds.depthAverageVelY/ds.depthAverageVelX)"
   ]
  },
  {
   "cell_type": "code",
   "execution_count": null,
   "id": "9fbdf56c",
   "metadata": {},
   "outputs": [],
   "source": [
    "vel = xr.concat([vmag,vangle],dim='time')"
   ]
  },
  {
   "cell_type": "code",
   "execution_count": null,
   "id": "eeb36833",
   "metadata": {},
   "outputs": [],
   "source": [
    "vel"
   ]
  },
  {
   "cell_type": "code",
   "execution_count": null,
   "id": "e63be028",
   "metadata": {},
   "outputs": [],
   "source": [
    "import hvplot.xarray\n",
    "import holoviews as hv\n",
    "from holoviews import opts,dim"
   ]
  },
  {
   "cell_type": "code",
   "execution_count": null,
   "id": "3f325eb9",
   "metadata": {},
   "outputs": [],
   "source": []
  }
 ],
 "metadata": {
  "kernelspec": {
   "display_name": "Python [conda env:mlp]",
   "language": "python",
   "name": "conda-env-mlp-py"
  },
  "language_info": {
   "codemirror_mode": {
    "name": "ipython",
    "version": 3
   },
   "file_extension": ".py",
   "mimetype": "text/x-python",
   "name": "python",
   "nbconvert_exporter": "python",
   "pygments_lexer": "ipython3",
   "version": "3.8.15"
  },
  "toc": {
   "base_numbering": 1,
   "nav_menu": {},
   "number_sections": true,
   "sideBar": true,
   "skip_h1_title": false,
   "title_cell": "Table of Contents",
   "title_sidebar": "Contents",
   "toc_cell": false,
   "toc_position": {},
   "toc_section_display": true,
   "toc_window_display": false
  }
 },
 "nbformat": 4,
 "nbformat_minor": 5
}
