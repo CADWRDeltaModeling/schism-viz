{
 "cells": [
  {
   "cell_type": "code",
   "execution_count": null,
   "id": "a47c7531",
   "metadata": {},
   "outputs": [],
   "source": [
    "import xarray as xr"
   ]
  },
  {
   "cell_type": "code",
   "execution_count": null,
   "id": "109c955f",
   "metadata": {},
   "outputs": [],
   "source": [
    "import schimpy\n",
    "from schimpy import schism_mesh"
   ]
  },
  {
   "cell_type": "code",
   "execution_count": null,
   "id": "b32955c4",
   "metadata": {},
   "outputs": [],
   "source": [
    "import holoviews as hv\n",
    "hv.extension('bokeh')\n",
    "from holoviews import opts, dim\n",
    "from holoviews.operation import datashader\n",
    "import warnings\n",
    "warnings.filterwarnings('ignore')\n"
   ]
  },
  {
   "cell_type": "markdown",
   "id": "5b824be5",
   "metadata": {},
   "source": [
    "## read in grid"
   ]
  },
  {
   "cell_type": "code",
   "execution_count": null,
   "id": "dc5695b2",
   "metadata": {},
   "outputs": [],
   "source": [
    "grid = schism_mesh.read_mesh('../tests/data/m1_hello_schism/hgrid.gr3')"
   ]
  },
  {
   "cell_type": "markdown",
   "id": "bc748ae9",
   "metadata": {},
   "source": [
    "## Fast rendering of grid"
   ]
  },
  {
   "cell_type": "code",
   "execution_count": null,
   "id": "d7b130a8",
   "metadata": {},
   "outputs": [],
   "source": [
    "trimesh = hv.TriMesh((grid.elems, grid.nodes))\n",
    "# rasterize to view faster, zoom in to clarify features\n",
    "img = datashader.rasterize(trimesh.edgepaths).opts(opts.Image(cmap=['darkblue'])).opts(width=800, height=400)\n",
    "# spread image pixels to see mesh in a more bold style\n",
    "elems_only = datashader.spread(img)\n",
    "\n",
    "nodes_only = datashader.dynspread(datashader.rasterize(trimesh.nodes).opts(opts.Image(cmap=['blue'])), shape='circle', max_px=6)\n",
    "\n",
    "full_mesh = (elems_only*nodes_only)"
   ]
  },
  {
   "cell_type": "code",
   "execution_count": null,
   "id": "e7a5b637",
   "metadata": {},
   "outputs": [],
   "source": [
    "import panel as pn\n",
    "pn.extension()\n",
    "\n",
    "pn.Row(full_mesh).servable(title='Mesh visualized with nodes and edge paths')#.show()"
   ]
  },
  {
   "cell_type": "markdown",
   "id": "1b414b55",
   "metadata": {},
   "source": [
    "## Views of the mesh (2D projected) for each of the axes"
   ]
  },
  {
   "cell_type": "code",
   "execution_count": null,
   "id": "f790f45a",
   "metadata": {},
   "outputs": [],
   "source": [
    "grid.nodes = grid.nodes*[1,1,-1] # need to reverse z-nodes to be negative "
   ]
  },
  {
   "cell_type": "code",
   "execution_count": null,
   "id": "2bc6b90e",
   "metadata": {},
   "outputs": [],
   "source": [
    "import numpy as np\n",
    "\n",
    "dim_names=np.array(['length','width','depth'])"
   ]
  },
  {
   "cell_type": "code",
   "execution_count": null,
   "id": "e7ca2c0c",
   "metadata": {},
   "outputs": [],
   "source": [
    "def create_mesh(nodes_slice=[0,1]):\n",
    "    trimeshz = hv.TriMesh((grid.elems, grid.nodes[:,nodes_slice]))#, kdims=['x','y'])\n",
    "    trimeshz.nodes.redim(**dict(zip(map(str,nodes_slice),dim_names[nodes_slice])))\n",
    "    # rasterize to view faster, zoom in to clarify features\n",
    "    imgz = datashader.rasterize(trimeshz.edgepaths).opts(opts.Image(cmap=['darkblue'])).opts(width=800, height=400)\n",
    "    # spread image pixels to see mesh in a more bold style\n",
    "    elems_onlyz = datashader.spread(imgz)\n",
    "\n",
    "    nodes_onlyz = datashader.dynspread(datashader.rasterize(trimeshz.nodes).opts(opts.Image(cmap=['blue'])), \n",
    "                                       shape='circle', max_px=6)\n",
    "\n",
    "    full_meshz = (elems_onlyz*nodes_onlyz)\n",
    "    return full_meshz"
   ]
  },
  {
   "cell_type": "code",
   "execution_count": null,
   "id": "4cffd53f",
   "metadata": {},
   "outputs": [],
   "source": [
    "hv.Layout([create_mesh([0,1]).opts(title='Top (View from z axis)',ylabel='y',xlabel='x'),\n",
    "           create_mesh([0,2]).opts(title='Side (View from x axis)',ylabel='z',xlabel='y'),\n",
    "           create_mesh([1,2]).opts(title='Front (View from y axis)',ylabel='z',xlabel='x')\n",
    "          ]).cols(1).opts(shared_axes=False)"
   ]
  },
  {
   "cell_type": "code",
   "execution_count": null,
   "id": "d09c17a3",
   "metadata": {},
   "outputs": [],
   "source": []
  }
 ],
 "metadata": {
  "kernelspec": {
   "display_name": "Python [conda env:schism_viz]",
   "language": "python",
   "name": "conda-env-schism_viz-py"
  },
  "language_info": {
   "codemirror_mode": {
    "name": "ipython",
    "version": 3
   },
   "file_extension": ".py",
   "mimetype": "text/x-python",
   "name": "python",
   "nbconvert_exporter": "python",
   "pygments_lexer": "ipython3",
   "version": "3.8.15"
  },
  "toc": {
   "base_numbering": 1,
   "nav_menu": {},
   "number_sections": true,
   "sideBar": true,
   "skip_h1_title": false,
   "title_cell": "Table of Contents",
   "title_sidebar": "Contents",
   "toc_cell": false,
   "toc_position": {},
   "toc_section_display": true,
   "toc_window_display": false
  }
 },
 "nbformat": 4,
 "nbformat_minor": 5
}
