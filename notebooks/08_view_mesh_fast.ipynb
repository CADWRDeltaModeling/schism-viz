{
 "cells": [
  {
   "cell_type": "code",
   "execution_count": null,
   "id": "a47c7531",
   "metadata": {},
   "outputs": [],
   "source": [
    "import xarray as xr"
   ]
  },
  {
   "cell_type": "code",
   "execution_count": null,
   "id": "109c955f",
   "metadata": {},
   "outputs": [],
   "source": [
    "import schimpy\n",
    "from schimpy import schism_mesh"
   ]
  },
  {
   "cell_type": "code",
   "execution_count": null,
   "id": "b32955c4",
   "metadata": {},
   "outputs": [],
   "source": [
    "import holoviews as hv\n",
    "hv.extension('bokeh')\n",
    "from holoviews import opts, dim\n",
    "from holoviews.operation import datashader\n",
    "import warnings\n",
    "warnings.filterwarnings('ignore')\n"
   ]
  },
  {
   "cell_type": "markdown",
   "id": "5b824be5",
   "metadata": {},
   "source": [
    "## read in grid"
   ]
  },
  {
   "cell_type": "code",
   "execution_count": null,
   "id": "dc5695b2",
   "metadata": {},
   "outputs": [],
   "source": [
    "grid = schism_mesh.read_mesh('../tests/data/m1_hello_schism/hgrid.gr3')"
   ]
  },
  {
   "cell_type": "markdown",
   "id": "bc748ae9",
   "metadata": {},
   "source": [
    "## Fast rendering of grid"
   ]
  },
  {
   "cell_type": "code",
   "execution_count": null,
   "id": "d7b130a8",
   "metadata": {},
   "outputs": [],
   "source": [
    "trimesh = hv.TriMesh((grid.elems, grid.nodes))\n",
    "# rasterize to view faster, zoom in to clarify features\n",
    "img = datashader.rasterize(trimesh.edgepaths).opts(opts.Image(cmap=['darkblue'])).opts(width=800, height=400)\n",
    "# spread image pixels to see mesh in a more bold style\n",
    "elems_only = datashader.spread(img)"
   ]
  },
  {
   "cell_type": "code",
   "execution_count": null,
   "id": "af292da3",
   "metadata": {},
   "outputs": [],
   "source": [
    "nodes_only = datashader.dynspread(datashader.rasterize(trimesh.nodes).opts(opts.Image(cmap=['blue'])), shape='circle', max_px=6)"
   ]
  },
  {
   "cell_type": "code",
   "execution_count": null,
   "id": "bc6c4414",
   "metadata": {},
   "outputs": [],
   "source": [
    "full_mesh = (elems_only*nodes_only)"
   ]
  },
  {
   "cell_type": "code",
   "execution_count": null,
   "id": "d6495e55",
   "metadata": {},
   "outputs": [],
   "source": [
    "full_mesh.opts(title='Mesh visualized with nodes and edge paths')"
   ]
  },
  {
   "cell_type": "code",
   "execution_count": null,
   "id": "e7ca2c0c",
   "metadata": {},
   "outputs": [],
   "source": []
  }
 ],
 "metadata": {
  "kernelspec": {
   "display_name": "Python [conda env:schism_viz]",
   "language": "python",
   "name": "conda-env-schism_viz-py"
  },
  "language_info": {
   "codemirror_mode": {
    "name": "ipython",
    "version": 3
   },
   "file_extension": ".py",
   "mimetype": "text/x-python",
   "name": "python",
   "nbconvert_exporter": "python",
   "pygments_lexer": "ipython3",
   "version": "3.8.15"
  },
  "toc": {
   "base_numbering": 1,
   "nav_menu": {},
   "number_sections": true,
   "sideBar": true,
   "skip_h1_title": false,
   "title_cell": "Table of Contents",
   "title_sidebar": "Contents",
   "toc_cell": false,
   "toc_position": {},
   "toc_section_display": true,
   "toc_window_display": false
  }
 },
 "nbformat": 4,
 "nbformat_minor": 5
}
