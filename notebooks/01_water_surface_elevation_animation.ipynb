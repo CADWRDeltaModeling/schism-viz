{
 "cells": [
  {
   "cell_type": "markdown",
   "id": "ac008043",
   "metadata": {},
   "source": [
    "# Water Surface Elevation in 3D"
   ]
  },
  {
   "cell_type": "code",
   "execution_count": null,
   "id": "7052885c",
   "metadata": {},
   "outputs": [],
   "source": [
    "import xarray as xr\n",
    "\n",
    "from schimpy import schism_mesh\n",
    "\n",
    "import pandas as pd\n",
    "import holoviews as hv\n",
    "from holoviews import opts, dim"
   ]
  },
  {
   "cell_type": "markdown",
   "id": "2b2af5bf",
   "metadata": {},
   "source": [
    "## Open output dataset containing the water surface elevations"
   ]
  },
  {
   "cell_type": "code",
   "execution_count": null,
   "id": "f66de4c6",
   "metadata": {},
   "outputs": [],
   "source": [
    "ds = xr.open_dataset('../tests/data/m1_hello_schism/outputs/out2d_1.nc')\n",
    "ds"
   ]
  },
  {
   "cell_type": "markdown",
   "id": "93139c8c",
   "metadata": {},
   "source": [
    "## Read mesh data of elements and nodes\n",
    "\n",
    "This might not work for quad elements. Will have to deal with those as two non-overlapping triangles"
   ]
  },
  {
   "cell_type": "code",
   "execution_count": null,
   "id": "94ab8ca0",
   "metadata": {},
   "outputs": [],
   "source": [
    "smesh = schism_mesh.read_mesh('../tests/data/m1_hello_schism/hgrid.gr3')\n",
    "\n",
    "dfelems = pd.DataFrame(smesh.elems,columns=[0,1,2])\n",
    "#dfelems\n",
    "\n",
    "dfnodes = pd.DataFrame(smesh.nodes, columns=['x','y','z'])\n",
    "dfnodes.z = -dfnodes.z\n",
    "#dfnodes"
   ]
  },
  {
   "cell_type": "markdown",
   "id": "2d0029b3",
   "metadata": {},
   "source": [
    "## TriSurface plots from Plotly\n",
    "\n",
    "Needed to add simplices from existing elements information of mesh rather than Delaunay triangulation of nodes\n",
    "\n",
    "#Adapted from https://anaconda.org/philippjfr/brain/notebook?version=2017.05.04.1924\n",
    "\n",
    "The code below allows for the simplices already defined by elems to be used instead of doing a Delaunay triangulation (used from scipy as a way to calculate the simplices)"
   ]
  },
  {
   "cell_type": "code",
   "execution_count": null,
   "id": "669103bf",
   "metadata": {},
   "outputs": [],
   "source": [
    "hv.extension('plotly')\n",
    "\n",
    "import param\n",
    "\n",
    "class TriSurface(hv.TriSurface):\n",
    "    \n",
    "    simplices = param.Array()\n",
    "\n",
    "class TriSurfacePlot(hv.plotting.plotly.TriSurfacePlot):\n",
    "\n",
    "    style_opts = ['cmap', 'plot_edges']\n",
    "\n",
    "    def get_data(self, element, ranges, style, **kwargs):\n",
    "        if element.simplices is None:\n",
    "            return super(TriSurfacePlot, self).get_data(element, ranges, style, **kwargs)\n",
    "        x, y, z = (element.dimension_values(i) for i in range(3))\n",
    "        simplices = element.simplices\n",
    "        return [dict(x=x, y=y, z=z, simplices=simplices)]\n",
    "    \n",
    "hv.Store.register({TriSurface: TriSurfacePlot}, 'plotly')"
   ]
  },
  {
   "cell_type": "code",
   "execution_count": null,
   "id": "7b264b16",
   "metadata": {},
   "outputs": [],
   "source": [
    "dfelev = dfnodes.copy()\n",
    "\n",
    "#ds.elevation.min(), ds.elevation.max()\n",
    "\n",
    "mesh_surface = TriSurface(dfelev, simplices = dfelems.values).opts(plot_edges=False, cmap='gray')\n",
    "mesh_surface"
   ]
  },
  {
   "cell_type": "markdown",
   "id": "c9e17ee5",
   "metadata": {},
   "source": [
    "## Show mesh and water surface\n",
    "\n",
    "The water surface simplices are derived from the nodes with Delaunay triangulation. Can we get the simplices from the information in the schism output files?"
   ]
  },
  {
   "cell_type": "code",
   "execution_count": null,
   "id": "35d4fcd4",
   "metadata": {},
   "outputs": [],
   "source": [
    "dfsurface = dfnodes.copy()\n",
    "\n",
    "def show_surface(time=0):\n",
    "    dfsurface.z = ds.elevation.values[time,:]\n",
    "    water_surface = TriSurface(dfsurface, simplices = dfelems.values).opts(width=800, zlim=(-10,2))\n",
    "    return water_surface.opts(plot_edges=False, cmap='kbc', clim=(0,2), colorbar=True)"
   ]
  },
  {
   "cell_type": "code",
   "execution_count": null,
   "id": "364185eb",
   "metadata": {},
   "outputs": [],
   "source": [
    "show_surface(0)"
   ]
  },
  {
   "cell_type": "markdown",
   "id": "a3b6ae39",
   "metadata": {},
   "source": [
    "## Now combine both to animate both bathymetry and water surface"
   ]
  },
  {
   "cell_type": "code",
   "execution_count": null,
   "id": "0ac6ec22",
   "metadata": {},
   "outputs": [],
   "source": [
    "def show_combined(time):\n",
    "    return show_surface(time)*mesh_surface"
   ]
  },
  {
   "cell_type": "code",
   "execution_count": null,
   "id": "660fc202",
   "metadata": {},
   "outputs": [],
   "source": [
    "import panel as pn\n",
    "pn.extension()"
   ]
  },
  {
   "cell_type": "code",
   "execution_count": null,
   "id": "9689d457",
   "metadata": {},
   "outputs": [],
   "source": [
    "time_slider = pn.widgets.IntSlider(name='Time Index', start=0, end=len(ds.time)-1)"
   ]
  },
  {
   "cell_type": "code",
   "execution_count": null,
   "id": "0b6f9fb6",
   "metadata": {},
   "outputs": [],
   "source": [
    "pn.Row(time_slider, hv.DynamicMap(show_combined, streams={'time':time_slider}).opts(width=800, height=800)).show()"
   ]
  },
  {
   "cell_type": "code",
   "execution_count": null,
   "id": "d2a3cda4",
   "metadata": {},
   "outputs": [],
   "source": []
  }
 ],
 "metadata": {
  "kernelspec": {
   "display_name": "Python [conda env:schism_viz]",
   "language": "python",
   "name": "conda-env-schism_viz-py"
  },
  "language_info": {
   "codemirror_mode": {
    "name": "ipython",
    "version": 3
   },
   "file_extension": ".py",
   "mimetype": "text/x-python",
   "name": "python",
   "nbconvert_exporter": "python",
   "pygments_lexer": "ipython3",
   "version": "3.8.15"
  },
  "toc": {
   "base_numbering": 1,
   "nav_menu": {},
   "number_sections": true,
   "sideBar": true,
   "skip_h1_title": false,
   "title_cell": "Table of Contents",
   "title_sidebar": "Contents",
   "toc_cell": false,
   "toc_position": {},
   "toc_section_display": true,
   "toc_window_display": false
  }
 },
 "nbformat": 4,
 "nbformat_minor": 5
}
