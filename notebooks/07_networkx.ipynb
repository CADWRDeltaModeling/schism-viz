{
 "cells": [
  {
   "cell_type": "markdown",
   "id": "36ab12ca",
   "metadata": {},
   "source": [
    "# SCHISM mesh as a network\n"
   ]
  },
  {
   "cell_type": "code",
   "execution_count": null,
   "id": "9d439042",
   "metadata": {},
   "outputs": [],
   "source": [
    "import networkx as nx\n",
    "import numpy as np"
   ]
  },
  {
   "cell_type": "code",
   "execution_count": null,
   "id": "737ccb45",
   "metadata": {},
   "outputs": [],
   "source": [
    "from schimpy import schism_mesh\n",
    "smesh = schism_mesh.read_mesh('../tests/data/m1_hello_schism/hgrid.gr3')"
   ]
  },
  {
   "cell_type": "markdown",
   "id": "83227d32",
   "metadata": {},
   "source": [
    "# Create edge list from elements\n",
    "Each element contributes to 3 or 4 edges (depending upon if its tri or quad element"
   ]
  },
  {
   "cell_type": "code",
   "execution_count": null,
   "id": "f51eb8e7",
   "metadata": {},
   "outputs": [],
   "source": [
    "def get_edge_list(elems):\n",
    "    for elem in elems:\n",
    "        for edge in zip(elem, np.roll(elem,1)):\n",
    "            yield edge"
   ]
  },
  {
   "cell_type": "code",
   "execution_count": null,
   "id": "450b1178",
   "metadata": {},
   "outputs": [],
   "source": [
    "g = nx.Graph(get_edge_list(smesh.elems))"
   ]
  },
  {
   "cell_type": "code",
   "execution_count": null,
   "id": "54c7a2aa",
   "metadata": {},
   "outputs": [],
   "source": [
    "g.number_of_nodes(), g.number_of_edges()"
   ]
  },
  {
   "cell_type": "markdown",
   "id": "c77b2496",
   "metadata": {},
   "source": [
    "# Graph ops"
   ]
  },
  {
   "cell_type": "code",
   "execution_count": null,
   "id": "e5d869c3",
   "metadata": {},
   "outputs": [],
   "source": [
    "print('Neigbors of node 25: ', list(nx.neighbors(g,25)))"
   ]
  },
  {
   "cell_type": "code",
   "execution_count": null,
   "id": "6d106285",
   "metadata": {},
   "outputs": [],
   "source": [
    "print('Shortest path from 25, 205', nx.shortest_path(g, 25, 205))"
   ]
  }
 ],
 "metadata": {
  "kernelspec": {
   "display_name": "Python [conda env:schism_viz]",
   "language": "python",
   "name": "conda-env-schism_viz-py"
  },
  "language_info": {
   "codemirror_mode": {
    "name": "ipython",
    "version": 3
   },
   "file_extension": ".py",
   "mimetype": "text/x-python",
   "name": "python",
   "nbconvert_exporter": "python",
   "pygments_lexer": "ipython3",
   "version": "3.8.15"
  },
  "toc": {
   "base_numbering": 1,
   "nav_menu": {},
   "number_sections": true,
   "sideBar": true,
   "skip_h1_title": false,
   "title_cell": "Table of Contents",
   "title_sidebar": "Contents",
   "toc_cell": false,
   "toc_position": {},
   "toc_section_display": true,
   "toc_window_display": false
  }
 },
 "nbformat": 4,
 "nbformat_minor": 5
}
