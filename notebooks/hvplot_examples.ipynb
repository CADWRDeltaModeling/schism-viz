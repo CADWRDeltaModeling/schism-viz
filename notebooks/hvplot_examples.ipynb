{
 "cells": [
  {
   "cell_type": "markdown",
   "id": "e68ba2e3",
   "metadata": {},
   "source": [
    "# Examples of SCHISM HoloViews visualizations\n",
    "This notebook shows examples to visualize SCHISM binary outputs (v5.10) using HoloViews."
   ]
  },
  {
   "cell_type": "code",
   "execution_count": null,
   "id": "9f1a7b3e",
   "metadata": {},
   "outputs": [],
   "source": [
    "# Import packages\n",
    "import os\n",
    "from pathlib import Path\n",
    "import numpy as np\n",
    "import xarray as xr\n",
    "import uxarray as ux\n",
    "import holoviews as hv\n",
    "import panel as pn\n",
    "import schismviz.hvplot\n",
    "hv.extension('bokeh')"
   ]
  },
  {
   "cell_type": "markdown",
   "id": "a8d3257f",
   "metadata": {},
   "source": [
    "## Read HelloSCHISM outputs\n",
    "The SCHISM binary outputs are in the NetCDF format, and we can read them using `xarray` easily.\n",
    "\n",
    "First, we read one of `out2d_*.nc` file. It contains the mesh information that do not vary in the simulation. Do not open multiple `out2d_*.nc` using `open_mfdataset`."
   ]
  },
  {
   "cell_type": "code",
   "execution_count": null,
   "id": "9136d49c",
   "metadata": {
    "scrolled": false
   },
   "outputs": [],
   "source": [
    "path_study = Path(\"/home/knam/repos/helloschism/modules/m1_hello_schism\")\n",
    "path_out2d = path_study / \"outputs/out2d_1.nc\"\n",
    "ds_out2d = xr.open_dataset(str(path_out2d))\n",
    "ds_out2d"
   ]
  },
  {
   "cell_type": "markdown",
   "id": "e23772b5",
   "metadata": {},
   "source": [
    "Now read data."
   ]
  },
  {
   "cell_type": "code",
   "execution_count": null,
   "id": "b90adb96",
   "metadata": {},
   "outputs": [],
   "source": [
    "path_output = path_study / \"outputs/out2d_*.nc\"\n",
    "ds_output = xr.open_mfdataset(str(path_output))\n",
    "ds_output"
   ]
  },
  {
   "cell_type": "markdown",
   "id": "68a2fbe4",
   "metadata": {},
   "source": [
    "## Plot a dynamic mesh plot"
   ]
  },
  {
   "cell_type": "code",
   "execution_count": null,
   "id": "60b3a614",
   "metadata": {},
   "outputs": [],
   "source": [
    "# Use `Panel`\n",
    "import panel as pn\n",
    "pn.extension()"
   ]
  },
  {
   "cell_type": "code",
   "execution_count": null,
   "id": "04ed5ca9",
   "metadata": {},
   "outputs": [],
   "source": [
    "# Choose a color map for plotting\n",
    "from holoviews.plotting.util import process_cmap\n",
    "cmap = process_cmap('rainbow')"
   ]
  },
  {
   "cell_type": "markdown",
   "id": "a4f3aeec",
   "metadata": {},
   "source": [
    "### Create a mesh 2D plot\n",
    "The plot supports a time slider, and it can visualize the changes of the value over time."
   ]
  },
  {
   "cell_type": "markdown",
   "id": "8bdae9ff",
   "metadata": {},
   "source": [
    "### Let's plot elevation"
   ]
  },
  {
   "cell_type": "code",
   "execution_count": null,
   "id": "e128c1c5",
   "metadata": {},
   "outputs": [],
   "source": [
    "p = schismviz.hvplot.plot_mesh(ds_out2d, ds_output.elevation)"
   ]
  },
  {
   "cell_type": "code",
   "execution_count": null,
   "id": "4e6c83c3",
   "metadata": {
    "scrolled": false
   },
   "outputs": [],
   "source": [
    "# Adjust plotting options\n",
    "# Set the aspect based on the actual domain size\n",
    "aspect = (ds_out2d.SCHISM_hgrid_node_y.max() - ds_out2d.SCHISM_hgrid_node_y.min()) / \\\n",
    "         (ds_out2d.SCHISM_hgrid_node_x.max() - ds_out2d.SCHISM_hgrid_node_x.min())\n",
    "width = 800\n",
    "height = int(aspect * width)\n",
    "# Resize the plot, add a color and a hovertool, and reposition the control widget\n",
    "pn.panel(p.opts(width=width, height=height, cmap=cmap, colorbar=True, tools=['hover']), widget_location='top')"
   ]
  },
  {
   "cell_type": "markdown",
   "id": "887f6e6a",
   "metadata": {},
   "source": [
    "## Create a mesh 2D plot with a point selector\n",
    "This is a similar plot to one above, but it has a point selector on the 2D plot to visualize time series value at the nearest node from the selected point.\n",
    "\n",
    "Use the point select tool in the toolbar of the 2D plot."
   ]
  },
  {
   "cell_type": "code",
   "execution_count": null,
   "id": "2c8e4de5",
   "metadata": {},
   "outputs": [],
   "source": [
    "p = schismviz.hvplot.plot_mesh_with_point_select(ds_out2d, ds_output.elevation)"
   ]
  },
  {
   "cell_type": "code",
   "execution_count": null,
   "id": "b2b46c00",
   "metadata": {
    "scrolled": false
   },
   "outputs": [],
   "source": [
    "pn.panel(p.opts(hv.opts.Image(width=width, height=height, cmap=cmap, colorbar=True, tools=['hover']),\n",
    "               hv.opts.Curve(width=width, tools=['hover'])), \n",
    "         widget_location='top')"
   ]
  }
 ],
 "metadata": {
  "kernelspec": {
   "display_name": "Python [conda env:schismviz]",
   "language": "python",
   "name": "conda-env-schismviz-py"
  },
  "language_info": {
   "codemirror_mode": {
    "name": "ipython",
    "version": 3
   },
   "file_extension": ".py",
   "mimetype": "text/x-python",
   "name": "python",
   "nbconvert_exporter": "python",
   "pygments_lexer": "ipython3",
   "version": "3.10.9"
  },
  "vscode": {
   "interpreter": {
    "hash": "c32dd5a3ca8e56098f2f96456841d2ef1a4d3582439659212a6185406f31f989"
   }
  }
 },
 "nbformat": 4,
 "nbformat_minor": 5
}
