{
 "cells": [
  {
   "attachments": {},
   "cell_type": "markdown",
   "metadata": {},
   "source": [
    "# Example notebook to map a coarse grid nodes to a fine grid nodes and calculate inverse distance weights\n",
    "\n",
    "This Jupyter notebook shows how we can calculate information - node mapping and\n",
    "wegihts - to interpolate values from a coarse grid to a fine grid."
   ]
  },
  {
   "cell_type": "code",
   "execution_count": null,
   "metadata": {},
   "outputs": [],
   "source": [
    "# Import modules\n",
    "import numpy as np\n",
    "import xarray as xr\n",
    "from shapely.geometry import Point\n",
    "import schismviz.suxarray as sx"
   ]
  },
  {
   "attachments": {},
   "cell_type": "markdown",
   "metadata": {},
   "source": [
    "## Read a coarse and a fine grid"
   ]
  },
  {
   "cell_type": "code",
   "execution_count": null,
   "metadata": {},
   "outputs": [],
   "source": [
    "# Read a fine grid. This is a target grid.\n",
    "path_hgrid_gr3 = 'hgrid.gr3'\n",
    "grid_fine = sx.read_hgrid_gr3(path_hgrid_gr3)"
   ]
  },
  {
   "cell_type": "code",
   "execution_count": null,
   "metadata": {},
   "outputs": [],
   "source": [
    "# Read a coarse grid. This is a source (donor) grid.\n",
    "path_coarse_gr3 = 'bay_delta_coarse_v4.gr3'\n",
    "grid_coarse = sx.read_hgrid_gr3(path_coarse_gr3)"
   ]
  },
  {
   "attachments": {},
   "cell_type": "markdown",
   "metadata": {},
   "source": [
    "## Create Shapely points of the fine grid"
   ]
  },
  {
   "cell_type": "code",
   "execution_count": null,
   "metadata": {},
   "outputs": [],
   "source": [
    "# Use xarray `apply_ufunc` to create points.\n",
    "points_fine = grid_fine.node_points"
   ]
  },
  {
   "attachments": {},
   "cell_type": "markdown",
   "metadata": {},
   "source": [
    "## Find the element indices of the coarse grid where the fine grid points are located.\n",
    "\n",
    "The element indices can be searched quickly using the STRtree algorithm in Shapely.\n",
    "Note that the STRtree will return a list of element node indices only when\n",
    "it finds a coarse grid element that contains the fine grid node. The first\n",
    "element of the return value has the indices with search results, and the second\n",
    "element has the indices of search results."
   ]
  },
  {
   "cell_type": "code",
   "execution_count": null,
   "metadata": {},
   "outputs": [],
   "source": [
    "face_ind_coarse_from_node_fine = \\\n",
    "    grid_coarse.elem_strtree.query(points_fine,predicate='intersects')"
   ]
  },
  {
   "cell_type": "code",
   "execution_count": null,
   "metadata": {},
   "outputs": [],
   "source": [
    "face_nodes_coarse = grid_coarse.Mesh2_face_nodes.values"
   ]
  },
  {
   "attachments": {},
   "cell_type": "markdown",
   "metadata": {},
   "source": [
    "## Create a node mapping matrix\n",
    "\n",
    "We want to collect the element node indices of the coarse grid at each fine\n",
    "grid node. When a fine grid node does not belong to any coarse grid element,\n",
    "we will find the nearest coarse grid node."
   ]
  },
  {
   "cell_type": "code",
   "execution_count": null,
   "metadata": {},
   "outputs": [],
   "source": [
    "# Create an empty array to store the node mapping. `-1` is the fill value.\n",
    "map_to_nodes_coarse = np.full((grid_fine.nMesh2_node, 3), -1, dtype=int)"
   ]
  },
  {
   "attachments": {},
   "cell_type": "markdown",
   "metadata": {},
   "source": [
    "### Copy over the element indices from the coarse.\n",
    "\n",
    "Because the STRtree search does not return results when a fine grid node is\n",
    "not within in a coarse grid element, we need to copy only those indices."
   ]
  },
  {
   "cell_type": "code",
   "execution_count": null,
   "metadata": {},
   "outputs": [],
   "source": [
    "map_to_nodes_coarse[face_ind_coarse_from_node_fine[0],:] = \\\n",
    "    face_nodes_coarse[face_ind_coarse_from_node_fine[1]][:, :3] - 1"
   ]
  },
  {
   "attachments": {},
   "cell_type": "markdown",
   "metadata": {},
   "source": [
    "### Collect the fine node indices not mapped to coarse grid elements"
   ]
  },
  {
   "cell_type": "code",
   "execution_count": null,
   "metadata": {},
   "outputs": [],
   "source": [
    "nodes_not_found = list(set(range(grid_fine.nMesh2_node)) - set(face_ind_coarse_from_node_fine[0]))\n",
    "nodes_not_found.sort()"
   ]
  },
  {
   "attachments": {},
   "cell_type": "markdown",
   "metadata": {},
   "source": [
    "### Find the nearest coarse nodes from the fine nodes not mapped to the coarse grid elements\n",
    "\n",
    "Note that the node indices are zero-based."
   ]
  },
  {
   "cell_type": "code",
   "execution_count": null,
   "metadata": {},
   "outputs": [],
   "source": [
    "nodes_coarse_nearest = xr.apply_ufunc(lambda p: grid_coarse.node_strtree.nearest(p),\n",
    "                points_fine.isel(nSCHISM_hgrid_node=nodes_not_found),\n",
    "                vectorize=True,\n",
    "                dask='parallelized')"
   ]
  },
  {
   "cell_type": "code",
   "execution_count": null,
   "metadata": {},
   "outputs": [],
   "source": [
    "# Save the nearest node indices\n",
    "map_to_nodes_coarse[nodes_not_found, 0] = nodes_coarse_nearest"
   ]
  },
  {
   "attachments": {},
   "cell_type": "markdown",
   "metadata": {},
   "source": [
    "### Save the result into a DataArray"
   ]
  },
  {
   "cell_type": "code",
   "execution_count": null,
   "metadata": {},
   "outputs": [],
   "source": [
    "da_map_to_nodes_coarse = xr.DataArray(map_to_nodes_coarse,\n",
    "                                      dims=('nSCHISM_hgrid_node', 'three'),\n",
    "                                      coords={'nSCHISM_hgrid_node': grid_fine.ds.nSCHISM_hgrid_node},\n",
    "                                      attrs={'_FillValue': -1, 'start_index': 0},\n",
    "                                      name='map_to_nodes_coarse')"
   ]
  },
  {
   "attachments": {},
   "cell_type": "markdown",
   "metadata": {},
   "source": [
    "## Calculate mapping weights"
   ]
  },
  {
   "attachments": {},
   "cell_type": "markdown",
   "metadata": {},
   "source": [
    "### Calculate mapping weights using the inverse distance to mapped nodes\n",
    "\n",
    "When a fine grid node is too close to a coarse grid node, the distance becomes\n",
    "zero and the inverse distance becomes inf. We need to deal with this case. We\n",
    "want to set the weight to 1 for the nearest coarse node, and 0 for the others.\n",
    "\n",
    "Also, note that the filled values, -1, is not filtered. So, it needs to be ignored."
   ]
  },
  {
   "cell_type": "code",
   "execution_count": null,
   "metadata": {},
   "outputs": [],
   "source": [
    "def _calculate_weight(conn, points):\n",
    "    \"\"\" Calculate distance between a point and a set of points.\n",
    "    \"\"\"\n",
    "    x = grid_coarse.Mesh2_node_x.values[conn]\n",
    "    y = grid_coarse.Mesh2_node_y.values[conn]\n",
    "    xy = np.array([p.xy for p in points])\n",
    "    dist = np.apply_along_axis(np.linalg.norm, 1, np.stack((x, y), axis=1) - xy)\n",
    "    weight = np.reciprocal(dist)\n",
    "    # Find where we see the infinite values\n",
    "    mask = np.where(np.isinf(weight))\n",
    "    # Adjust the weights for the node\n",
    "    weight[mask[0], :] = 0.\n",
    "    weight[mask] = 1.\n",
    "    return weight\n",
    "\n",
    "chunk_size = None\n",
    "da_weight = xr.apply_ufunc(_calculate_weight,\n",
    "               da_map_to_nodes_coarse.chunk({'nSCHISM_hgrid_node': chunk_size}),\n",
    "               points_fine.chunk({'nSCHISM_hgrid_node': chunk_size}),\n",
    "               input_core_dims=[['three'], []],\n",
    "               output_core_dims=[['three']],\n",
    "               dask='parallelized',\n",
    "               output_dtypes=float).persist()"
   ]
  },
  {
   "attachments": {},
   "cell_type": "markdown",
   "metadata": {},
   "source": [
    "## Save the results"
   ]
  },
  {
   "cell_type": "code",
   "execution_count": null,
   "metadata": {},
   "outputs": [],
   "source": [
    "# Normalize the weights.\n",
    "# This is optional.\n",
    "da_weight = xr.apply_ufunc(lambda x: x / np.sum(x, axis=1)[:, np.newaxis],\n",
    "                           da_weight,\n",
    "                           dask='parallelized').persist()"
   ]
  },
  {
   "cell_type": "code",
   "execution_count": null,
   "metadata": {},
   "outputs": [],
   "source": [
    "# Create a dataset and save it\n",
    "ds_map_and_weight = da_map_to_nodes_coarse.to_dataset(name=da_map_to_nodes_coarse.name)\n",
    "ds_map_and_weight['weight'] = da_weight\n",
    "path_map_and_weight = 'map_and_weight.nc'\n",
    "ds_map_and_weight.to_netcdf(path_map_and_weight)"
   ]
  }
 ],
 "metadata": {
  "kernelspec": {
   "display_name": "uxarray_master",
   "language": "python",
   "name": "python3"
  },
  "language_info": {
   "codemirror_mode": {
    "name": "ipython",
    "version": 3
   },
   "file_extension": ".py",
   "mimetype": "text/x-python",
   "name": "python",
   "nbconvert_exporter": "python",
   "pygments_lexer": "ipython3",
   "version": "3.10.10"
  },
  "orig_nbformat": 4
 },
 "nbformat": 4,
 "nbformat_minor": 2
}
