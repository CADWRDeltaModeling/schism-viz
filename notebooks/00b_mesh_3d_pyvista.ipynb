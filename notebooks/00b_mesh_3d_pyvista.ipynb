{
 "cells": [
  {
   "cell_type": "code",
   "execution_count": null,
   "id": "9ae95be3",
   "metadata": {},
   "outputs": [],
   "source": [
    "import numpy as np\n",
    "\n",
    "import pyvista as pv\n",
    "from pyvista import CellType"
   ]
  },
  {
   "cell_type": "code",
   "execution_count": null,
   "id": "8fb31a8f",
   "metadata": {},
   "outputs": [],
   "source": [
    "from schimpy import schism_mesh\n",
    "\n",
    "smesh = schism_mesh.read_mesh('../tests/data/m1_hello_schism/hgrid.gr3')"
   ]
  },
  {
   "cell_type": "code",
   "execution_count": null,
   "id": "78a4f98b",
   "metadata": {},
   "outputs": [],
   "source": [
    "points = smesh.nodes"
   ]
  },
  {
   "cell_type": "code",
   "execution_count": null,
   "id": "8a7c5d45",
   "metadata": {},
   "outputs": [],
   "source": [
    "points[:,2] = -points[:,2]*1e3 # exaggerate the z dimension"
   ]
  },
  {
   "cell_type": "code",
   "execution_count": null,
   "id": "3f96aab4",
   "metadata": {},
   "outputs": [],
   "source": [
    "cells = np.array(smesh.elems)"
   ]
  },
  {
   "cell_type": "code",
   "execution_count": null,
   "id": "c308e2a1",
   "metadata": {},
   "outputs": [],
   "source": [
    "cell_npoints = np.full(cells.shape[0],3)"
   ]
  },
  {
   "cell_type": "code",
   "execution_count": null,
   "id": "a1eef473",
   "metadata": {},
   "outputs": [],
   "source": [
    "cell_npoints = cell_npoints.reshape((cell_npoints.shape[0],1))"
   ]
  },
  {
   "cell_type": "code",
   "execution_count": null,
   "id": "22a61150",
   "metadata": {},
   "outputs": [],
   "source": [
    "cells = np.hstack([cell_npoints, cells])"
   ]
  },
  {
   "cell_type": "code",
   "execution_count": null,
   "id": "75ff7faa",
   "metadata": {},
   "outputs": [],
   "source": [
    "# each cell is a Triangle\n",
    "celltypes = np.empty(cells.shape[0], dtype=np.uint8)\n",
    "celltypes[:] = CellType.TRIANGLE"
   ]
  },
  {
   "cell_type": "code",
   "execution_count": null,
   "id": "07dad40e",
   "metadata": {},
   "outputs": [],
   "source": [
    "grid = pv.UnstructuredGrid(cells, celltypes, points)\n",
    "# plot the grid (and suppress the camera position output)\n",
    "_ = grid.plot(show_edges=True, cpos='xy', cmap='plasma', \n",
    "              pbr=True, metallic=1.0, roughness=0.6,zoom=1.7)"
   ]
  },
  {
   "cell_type": "code",
   "execution_count": null,
   "id": "fbc33ece",
   "metadata": {},
   "outputs": [],
   "source": []
  }
 ],
 "metadata": {
  "kernelspec": {
   "display_name": "Python [conda env:schism_viz]",
   "language": "python",
   "name": "conda-env-schism_viz-py"
  },
  "language_info": {
   "codemirror_mode": {
    "name": "ipython",
    "version": 3
   },
   "file_extension": ".py",
   "mimetype": "text/x-python",
   "name": "python",
   "nbconvert_exporter": "python",
   "pygments_lexer": "ipython3",
   "version": "3.8.16"
  },
  "toc": {
   "base_numbering": 1,
   "nav_menu": {},
   "number_sections": true,
   "sideBar": true,
   "skip_h1_title": false,
   "title_cell": "Table of Contents",
   "title_sidebar": "Contents",
   "toc_cell": false,
   "toc_position": {},
   "toc_section_display": true,
   "toc_window_display": false
  }
 },
 "nbformat": 4,
 "nbformat_minor": 5
}
