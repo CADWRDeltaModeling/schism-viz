{
 "cells": [
  {
   "attachments": {},
   "cell_type": "markdown",
   "metadata": {},
   "source": [
    "# Example notebook to search geometry using suxarray\n",
    "\n",
    "Note that this is based on `uxarray` master version (or v2023.04.1)."
   ]
  },
  {
   "cell_type": "code",
   "execution_count": null,
   "metadata": {},
   "outputs": [],
   "source": [
    "import shapely\n",
    "from shapely.geometry import Point\n",
    "import schismviz.suxarray as sx"
   ]
  },
  {
   "cell_type": "markdown",
   "metadata": {},
   "source": [
    "## Read a gr3 file to a grid"
   ]
  },
  {
   "cell_type": "code",
   "execution_count": null,
   "metadata": {},
   "outputs": [],
   "source": [
    "path_testgrid_gr3 = '../tests/testdata/testmesh.gr3'\n",
    "grid = sx.read_hgrid_gr3(path_testgrid_gr3)"
   ]
  },
  {
   "attachments": {},
   "cell_type": "markdown",
   "metadata": {},
   "source": [
    "## Find an horizonal grid element from a x-, and y-coordinate\n",
    "\n",
    "The return value is a list of elements that intersects with a point from the given coordinate. The values are __zero-based__ indices."
   ]
  },
  {
   "cell_type": "code",
   "execution_count": null,
   "metadata": {},
   "outputs": [],
   "source": [
    "# The experted answer is 123.\n",
    "grid.find_element_at(0.5, 0.3)"
   ]
  },
  {
   "cell_type": "markdown",
   "metadata": {},
   "source": [
    "### Same example as above but using a STRtree and a Shapely point directly"
   ]
  },
  {
   "cell_type": "code",
   "execution_count": null,
   "metadata": {},
   "outputs": [],
   "source": [
    "point = Point(0.5, 0.3)\n",
    "elem_i = grid.elem_strtree.query(point, predicate='intersects')"
   ]
  },
  {
   "cell_type": "markdown",
   "metadata": {},
   "source": [
    "## Calculate distances from a point to the nodes of an element found above"
   ]
  },
  {
   "cell_type": "markdown",
   "metadata": {},
   "source": [
    "## Get the node indices of the element found above"
   ]
  },
  {
   "cell_type": "code",
   "execution_count": null,
   "metadata": {},
   "outputs": [],
   "source": [
    "nodes_in_elem = grid.Mesh2_face_nodes.isel(nSCHISM_hgrid_face=elem_i[0])"
   ]
  },
  {
   "cell_type": "markdown",
   "metadata": {},
   "source": [
    "### Get the number of nodes in an element"
   ]
  },
  {
   "cell_type": "code",
   "execution_count": null,
   "metadata": {},
   "outputs": [],
   "source": [
    "n_nodes_in_elem = grid.Mesh2_face_dimension.isel(nMesh2_face=elem_i[0]).values[()]\n",
    "n_nodes_in_elem"
   ]
  },
  {
   "attachments": {},
   "cell_type": "markdown",
   "metadata": {},
   "source": [
    "### Select node indices for the element\n",
    "\n",
    "Note that these are one-based (for now)."
   ]
  },
  {
   "cell_type": "code",
   "execution_count": null,
   "metadata": {},
   "outputs": [],
   "source": [
    "xs = grid.Mesh2_node_x.isel(nSCHISM_hgrid_node=nodes_in_elem[:n_nodes_in_elem]).values\n",
    "ys = grid.Mesh2_node_y.isel(nSCHISM_hgrid_node=nodes_in_elem[:n_nodes_in_elem]).values"
   ]
  },
  {
   "cell_type": "code",
   "execution_count": null,
   "metadata": {},
   "outputs": [],
   "source": [
    "dist = [shapely.distance(Point(x, y), point) for x, y in zip(xs, ys)]\n",
    "dist"
   ]
  }
 ],
 "metadata": {
  "kernelspec": {
   "display_name": "schismviz",
   "language": "python",
   "name": "python3"
  },
  "language_info": {
   "codemirror_mode": {
    "name": "ipython",
    "version": 3
   },
   "file_extension": ".py",
   "mimetype": "text/x-python",
   "name": "python",
   "nbconvert_exporter": "python",
   "pygments_lexer": "ipython3",
   "version": "3.10.10"
  }
 },
 "nbformat": 4,
 "nbformat_minor": 2
}
